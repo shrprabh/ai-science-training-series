{
  "cells": [
    {
      "cell_type": "markdown",
      "metadata": {
        "id": "Zi3pGEQ7k4eo"
      },
      "source": [
        "# Artificial intelligence in a nutshell\n",
        "\n",
        "In this notebook, we will talk about\n",
        "* What is AI training?\n",
        "* How does large language model work?\n",
        "* A simple AI model: linear regression\n",
        "\n",
        "**How to run this notebook on Polaris**\n",
        "* Go to https://jupyter.alcf.anl.gov, and click \"Login Polaris\"\n",
        "* After login, select ```ALCFAITP``` project and ```ALCFAITP``` queue during the lecture (use ```debug``` queue outside of the lecture)\n",
        "* Load the notebook and select \"datascience/conda-2023-01-10\" python kernel\n",
        "\n",
        "<p float=\"center\">\n",
        "  <img src=\"https://github.com/shrprabh/ai-science-training-series/blob/main/01_intro_AI_on_Supercomputer/figures/jupyter1.png?raw=1\" width=\"600\" />\n",
        "  <img src=\"https://github.com/shrprabh/ai-science-training-series/blob/main/01_intro_AI_on_Supercomputer/figures/jupyter2.png?raw=1\" width=\"600\" />\n",
        "</p>\n",
        "\n",
        "**How to run this notebook on Google Colab**\n",
        "\n",
        "* Go to https://colab.research.google.com/, sign in or sign up\n",
        "* \"File\"-> \"open notebook\"\n",
        "* choose ```01_intro_AI_on_Supercomputer/01_linear_regression_sgd.ipynb``` from the list\n",
        "![Google Colab](https://github.com/shrprabh/ai-science-training-series/blob/main/01_intro_AI_on_Supercomputer/figures/colab.png?raw=1)\n",
        "\n",
        "## What is AI training?\n",
        "**Two ways of learning English**\n",
        "* through learning rules;\n",
        "* through hearing a lot of speakings\n",
        "<p float=\"center\">\n",
        "  <img src=\"https://github.com/shrprabh/ai-science-training-series/blob/main/01_intro_AI_on_Supercomputer/figures/data_driven.png?raw=1\" width=\"1000\" />\n",
        "</p>\n",
        "\n",
        "I learned English in my middle school, and memorized a lot of grammar rules in my mind. Every time when I speak, I try to follow the grammar rules as much as I can. But I always break the rules.\n",
        "\n",
        "However, my daugher learned English differently. She learns speaking by hearing a lot of speaking from TV, teachers, classmates, and her older brother. The fact is that, she seldomly breaks grammar rules. This way of learning by observing patterns is very powerful! This is the essence of AI or data driven science.\n",
        "\n",
        "## How does large language model work?\n",
        "\n",
        "Large Language Models, like GPT, function by pre-training on extensive datasets to learn language patterns, utilizing transformer architecture for contextual understanding, and can be fine-tuned for specific tasks, enabling them to generate coherent and contextually relevant text based on provided inputs.\n",
        "\n",
        "<p float=\"center\">\n",
        "  <img src=\"https://github.com/shrprabh/ai-science-training-series/blob/main/01_intro_AI_on_Supercomputer/figures/llm2.png?raw=1\" width=\"600\" />\n",
        "  <img src=\"https://github.com/shrprabh/ai-science-training-series/blob/main/01_intro_AI_on_Supercomputer/figures/chatgpt_response.png?raw=1\" width=\"160\" />\n",
        "</p>\n",
        "\n",
        "**More complicated example**\n",
        "\n",
        "<p float=\"center\">\n",
        "  <img src=\"https://github.com/shrprabh/ai-science-training-series/blob/main/01_intro_AI_on_Supercomputer/figures/chatgpt_poem.png?raw=1\" width=\"400\" />\n",
        "  <img src=\"https://github.com/shrprabh/ai-science-training-series/blob/main/01_intro_AI_on_Supercomputer/figures/martin.png?raw=1\" width=\"450\" />\n",
        "</p>\n",
        "\n",
        "You can do this on https://chat.openai.com\n",
        "\n",
        "## Simplest AI model example: linear regression\n",
        "This example is adopted from Bethany Lusch, ALCF.\n",
        "\n",
        "Linear regression is the simplest example ``learning\" from existing data for future prediction.\n",
        "<p float=\"center\">\n",
        "  <img src=\"https://github.com/shrprabh/ai-science-training-series/blob/main/01_intro_AI_on_Supercomputer/figures/excel_linear_regression.jpg?raw=1\" width=\"400\" />\n",
        "</p>\n",
        "\n",
        "We're going to review the math involved in this process to help understand how training an AI works.\n",
        "\n",
        "First we will load some tools that others wrote and we can use to help us work.\n",
        "* [Pandas](https://pandas.pydata.org/docs/): a toolkit for working with row vs. column data, like excel sheets, and CSV (Comma Seperated Values) files.\n",
        "* [Numpy](https://numpy.org/doc/): a toolkit for managing arrays, vectors, matrices, etc, doing math with them, slicing them up, and many other handy things.\n",
        "* [Matplotlib](https://matplotlib.org/stable/index.html): a toolkit for plotting data"
      ]
    },
    {
      "cell_type": "code",
      "execution_count": null,
      "metadata": {
        "id": "hThIzbNXk4ep"
      },
      "outputs": [],
      "source": [
        "import pandas as pd\n",
        "import numpy as np\n",
        "import matplotlib.pyplot as plt\n",
        "import IPython.display as ipydis\n",
        "import time"
      ]
    },
    {
      "cell_type": "markdown",
      "metadata": {
        "id": "7PKXzh9Zk4eq"
      },
      "source": [
        "### Dataset\n",
        "We used a realestate dataset from Kaggle to produce this reduced dataset. This dataset contains the _sale price_ and _above ground square feet_ of many houses. We can use this data for our linear regression.\n",
        "\n",
        "We use Pandas to read the data file which is stored as Comma Separated Values (CSV). and print the column labels. CSV files are similar to excel sheets."
      ]
    },
    {
      "cell_type": "code",
      "execution_count": null,
      "metadata": {
        "id": "36meDWTQk4eq"
      },
      "outputs": [],
      "source": [
        "! [ -e ./slimmed_realestate_data.csv ] || wget https://raw.githubusercontent.com/argonne-lcf/ai-science-training-series/main/01_intro_AI_on_Supercomputer/slimmed_realestate_data.csv\n",
        "data = pd.read_csv('slimmed_realestate_data.csv')\n",
        "print(data.columns)"
      ]
    },
    {
      "cell_type": "markdown",
      "metadata": {
        "id": "uiosgc7ok4eq"
      },
      "source": [
        "Now pandas provides some helpful tools for us to inspect our data. It provides a `plot()` function that, behind the scenes, is calling into the _Matplotlib_ library and calling the function [matplotlib.pyplot.plot()](https://matplotlib.org/stable/api/_as_gen/matplotlib.pyplot.plot.html). In this case, we simply tell it the names of the columns we want as our _x_ and _y_ values and the `style` (`'.'` tells `matplotlib` to use a small dot to represent each data point)."
      ]
    },
    {
      "cell_type": "code",
      "execution_count": null,
      "metadata": {
        "id": "z6g3g4PRk4eq"
      },
      "outputs": [],
      "source": [
        "data.plot(x='GrLivArea', y='SalePrice',style='.')"
      ]
    },
    {
      "cell_type": "markdown",
      "metadata": {
        "id": "6DhJ3-yqk4eq"
      },
      "source": [
        "### Theory of linear regression\n",
        "\n",
        "The goal of learning regression is to find a line that is closest to all the points.\n",
        "\n",
        "The slope and intercept of such a line $y = m x + b$ can be found as:\n",
        "\n",
        "$$m = { n (\\Sigma xy) - (\\Sigma x) (\\Sigma y) \\over n (\\Sigma x^2) - (\\Sigma x)^2 } $$\n",
        "\n",
        "$$b = { (\\Sigma y) (\\Sigma x^2) - (\\Sigma x) (\\Sigma xy) \\over n (\\Sigma x^2) - (\\Sigma x)^2 } $$\n",
        "\n",
        "Details derivation of this can be found [here](https://en.wikipedia.org/wiki/Simple_linear_regression).\n",
        "\n",
        "We'll break this calculation into a few steps to help make it easier.\n",
        "\n",
        "First lets define $x$ and $y$. $x$ will be our _above ground square footage_ and $y$ will be _sale price_. In our equations we have a few different values we need, such as $n$ which is just the number of points we have:"
      ]
    },
    {
      "cell_type": "code",
      "execution_count": null,
      "metadata": {
        "id": "yVOUGjWpk4eq"
      },
      "outputs": [],
      "source": [
        "n = len(data)"
      ]
    },
    {
      "cell_type": "markdown",
      "metadata": {
        "id": "-WsnkO0-k4er"
      },
      "source": [
        "Then we need our $x$ and $y$ by selecting only the column we care about for each one. Note about data formats: `data` is a Pandas [DataFrame](https://pandas.pydata.org/docs/reference/api/pandas.DataFrame.html#pandas.DataFrame) object which has rows and columns; `data['GrLivArea']` is a Pandas [Series](https://pandas.pydata.org/docs/reference/api/pandas.Series.html) object which only has rows; then we also convert from _Pandas_ data formats (in this case a _Series_) to _Numpy_ data formats using the `to_numpy()` function which is part of the Pandas _Series_ object."
      ]
    },
    {
      "cell_type": "code",
      "execution_count": null,
      "metadata": {
        "id": "sZR8G3XYk4er"
      },
      "outputs": [],
      "source": [
        "x = data['GrLivArea'].to_numpy()\n",
        "y = data['SalePrice'].to_numpy()"
      ]
    },
    {
      "cell_type": "markdown",
      "metadata": {
        "id": "ACgArhR4k4er"
      },
      "source": [
        "Now we will calculate $\\Sigma xy$, $\\Sigma x$, $\\Sigma y$, and $\\Sigma x^2$:"
      ]
    },
    {
      "cell_type": "code",
      "execution_count": null,
      "metadata": {
        "id": "YWj0LEh_k4er"
      },
      "outputs": [],
      "source": [
        "sum_xy = np.sum(x*y)\n",
        "sum_x = np.sum(x)\n",
        "sum_y = np.sum(y)\n",
        "sum_x2 = np.sum(x*x)"
      ]
    },
    {
      "cell_type": "markdown",
      "metadata": {
        "id": "2rY1YlF7k4er"
      },
      "source": [
        "The denominator in the equation for $m$ and $b$ are the same so we can calculate that once:"
      ]
    },
    {
      "cell_type": "code",
      "execution_count": null,
      "metadata": {
        "id": "-xxJAjElk4er"
      },
      "outputs": [],
      "source": [
        "denominator = n * sum_x2 - sum_x * sum_x"
      ]
    },
    {
      "cell_type": "markdown",
      "metadata": {
        "id": "ZXso13Ksk4er"
      },
      "source": [
        "Then we can calculate our fit values:"
      ]
    },
    {
      "cell_type": "code",
      "execution_count": null,
      "metadata": {
        "id": "AXG5UEtvk4er"
      },
      "outputs": [],
      "source": [
        "m = (n * sum_xy - sum_x * sum_y) / denominator\n",
        "b = (sum_y * sum_x2 - sum_x * sum_xy) / denominator\n",
        "print('y = %f * x + %f' % (m,b))\n",
        "\n",
        "# saving these for later comparison\n",
        "m_calc = m\n",
        "b_calc = b"
      ]
    },
    {
      "cell_type": "markdown",
      "metadata": {
        "id": "iDDNaUIAk4er"
      },
      "source": [
        "Now we can plot the fit results with our data to see how we did.\n",
        "\n",
        "First we define a plotting function because we're going to do this often and we want to reuse our code:"
      ]
    },
    {
      "cell_type": "code",
      "execution_count": null,
      "metadata": {
        "id": "Fr0Fmpi0k4er"
      },
      "outputs": [],
      "source": [
        "def plot_data(x,y,m,b,plt = plt):\n",
        "   # plot our data points with 'bo' = blue circles\n",
        "   plt.plot(x,y,'bo')\n",
        "   # create the line based on our linear fit\n",
        "   # first we need to make x points\n",
        "   # the 'arange' function generates points between two limits (min,max)\n",
        "   linear_x = np.arange(x.min(),x.max())\n",
        "   # now we use our fit parameters to calculate the y points based on our x points\n",
        "   linear_y = linear_x * m + b\n",
        "   # plot the linear points using 'r-' = red line\n",
        "   plt.plot(linear_x,linear_y,'r-',label='fit')"
      ]
    },
    {
      "cell_type": "markdown",
      "metadata": {
        "id": "8MZBaVCxk4er"
      },
      "source": [
        "Now can use this function to plot our results:"
      ]
    },
    {
      "cell_type": "code",
      "execution_count": null,
      "metadata": {
        "id": "XB9G8fOUk4er"
      },
      "outputs": [],
      "source": [
        "plot_data(x,y,m,b)"
      ]
    },
    {
      "cell_type": "markdown",
      "metadata": {
        "id": "TjY0wENPk4er"
      },
      "source": [
        "### Training through Stochastic Gradient Descent (SGD)\n",
        "\n",
        "SGD is a common method in AI for training deep neural networks on large datasets. It is an iterative method for optimizing a loss function that we get to define. We will use this simple linear regression to demonstrate how it works.\n",
        "\n",
        "#### The model\n",
        "\n",
        "In AI, neural networks are often referred to as a _model_ because, once fully trained, they should model (AKA predict) the behavior of our system. In our example, the system is how house prices vary based on house size. We know our system is roughly driven by a linear function:\n",
        "\n",
        "$$ \\hat{y_i}(x_i) = m * x_i + b $$\n",
        "\n",
        "We just need to figure out $m$ and $b$. Let's create a function that calculates our model given $x$, $m$, and $b$.\n"
      ]
    },
    {
      "cell_type": "code",
      "execution_count": null,
      "metadata": {
        "id": "8aBFP5VCk4er"
      },
      "outputs": [],
      "source": [
        "def model(x,m,b):\n",
        "   return m * x + b"
      ]
    },
    {
      "cell_type": "markdown",
      "metadata": {
        "tags": [],
        "id": "Rysx_XS4k4er"
      },
      "source": [
        "\n",
        "#### The Loss Function\n",
        "\n",
        "A _loss function_, or _objective function_, is something we define and is based on what we want to achieve. In the method of SGD, it is our goal to minimize (or make close to zero) the values calculated from the _loss function_. In our example, we ideally want the prediction of our _model_ to be equal to the actual data, though we will settle for \"as close as possible\".\n",
        "\n",
        "So we will select our _loss function_ to be the [Mean Squared Error](https://en.wikipedia.org/wiki/Mean_squared_error) function:\n",
        "\n",
        "$$ L(y_i,\\hat{y_i}) = (y_i - \\hat{y_i}(x_i))^2 $$\n",
        "\n",
        "where $y_i$ is our $i^{th}$ entry in the `data['SalePrice']` vector and $\\hat{y_i}$ is the prediction based on evaluting $m * x_i + b$.\n",
        "\n",
        "This function looks like the figure below when we plot it with $x=y_i - \\hat{y_i}(x_i)$ and we we want to be down near $y_i - \\hat{y_i}(x_i) = 0$ which indicates that our $y_i$ is as close as possible to $\\hat{y_i}$.\n",
        "\n",
        "<p float=\"center\">\n",
        "  <img src=\"https://github.com/shrprabh/ai-science-training-series/blob/main/01_intro_AI_on_Supercomputer/figures/loss_func.png?raw=1\" width=\"400\" />\n",
        "</p>\n",
        "\n",
        "Here we crate a function that calculates this for us."
      ]
    },
    {
      "cell_type": "code",
      "execution_count": null,
      "metadata": {
        "id": "BEWV9sggk4er"
      },
      "outputs": [],
      "source": [
        "def loss(x,y,m,b):\n",
        "   y_predicted = model(x,m,b)\n",
        "   return np.power( y - y_predicted, 2 )"
      ]
    },
    {
      "cell_type": "markdown",
      "metadata": {
        "id": "ud_ITZpKk4er"
      },
      "source": [
        "#### Minimizing the Loss Function\n",
        "\n",
        "We want to use the loss function in order to guide how to update $m$ and $b$ to better model our system. In calculus we learn to minimize a function with respect to a variable you calculate the _partial derivative_ with respect to the variable you want to vary.\n",
        "\n",
        "$$ { \\partial L \\over \\partial m } = 0 $$\n",
        "\n",
        "The location of the solution to this is the minimum as shown in the figure above. We can write down the partial derivative of the loss function as:\n",
        "\n",
        "$$ { \\partial L \\over \\partial m } = -2 x_i (y_i - \\hat{y_i}(x_i)) $$\n",
        "$$ { \\partial L \\over \\partial b } = -2 (y_i - \\hat{y_i}(x_i)) $$\n",
        "\n",
        "We can use this to calculate an adjustment to $m$ and $b$ that will reduce the loss function, effectively improving our fitting parameters. This is done using this equation:\n",
        "\n",
        "$$ m' = m - \\eta { \\partial L \\over \\partial m }$$\n",
        "$$ b' = b - \\eta { \\partial L \\over \\partial b }$$\n",
        "\n",
        "Here our original $m$ and $b$ are adjusted by the partial derivative multiplied by some small factor, $\\eta$, called the _learning rate_. This learning rate is very important in our process and must be tuned for every problem.\n",
        "\n",
        "In our example, the selection of the learning rate essentially defines how close we can get to the minimum, AKA the best fit solution. This figure shows what happens when we pick a large learning rate. We first select a starting point in our loss function (typically randomly), then every update from $m$/$b$ to $m'$/$b'$ results in a shift to somewhere else on our loss function (following the red arrows). In this example, our learning rate ($\\eta$) has been selected too large such that we bounce back and forth around the minimum, never reaching it.\n",
        "\n",
        "<p float=\"center\">\n",
        "  <img src=\"https://github.com/shrprabh/ai-science-training-series/blob/main/01_intro_AI_on_Supercomputer/figures/parabola_largeLR.png?raw=1\" width=\"400\" />\n",
        "</p>\n",
        "\n",
        "If we select a smaller learning we can see better behavior in the next figure.\n",
        "\n",
        "<p float=\"center\">\n",
        "  <img src=\"https://github.com/shrprabh/ai-science-training-series/blob/main/01_intro_AI_on_Supercomputer/figures/parabola_smallLR.png?raw=1\" width=\"400\" />\n",
        "</p>\n",
        "\n",
        "Though, keep in mind, too small a learning rate results is so little progress toward the minimum that you may never reach it!\n",
        "\n",
        "A pit fall of SGD that one must be aware of is when your loss function is complex, with many minima. The next figure shows such a case, in which we select a small learning rate and our starting point happens to be near a local minimum that is not the lowest minimum. As shown, we do reach a minimum, but it isn't the lowest minimum in our loss function. It could be that we randomly select a starting point near the minimum we care about, but we should build methods that are more robust against randomly getting the right answer.\n",
        "\n",
        "<p float=\"center\">\n",
        "  <img src=\"https://github.com/shrprabh/ai-science-training-series/blob/main/01_intro_AI_on_Supercomputer/figures/local_min_smallLR.png?raw=1\" width=\"400\" />\n",
        "</p>\n",
        "\n",
        "Then, if we increase our learning rate too much, we bounce around again.\n",
        "\n",
        "<p float=\"center\">\n",
        "  <img src=\"https://github.com/shrprabh/ai-science-training-series/blob/main/01_intro_AI_on_Supercomputer/figures/local_min_largeLR.png?raw=1\" width=\"400\" />\n",
        "</p>\n",
        "\n",
        "What we want to do in this situation is start with a large learning rate and slowly reduce its size as we progress. That is shown in this next figure.\n",
        "\n",
        "<p float=\"center\">\n",
        "  <img src=\"https://github.com/shrprabh/ai-science-training-series/blob/main/01_intro_AI_on_Supercomputer/figures/local_min_variableLR.png?raw=1\" width=\"400\" />\n",
        "</p>\n",
        "\n",
        "As you can see, this process is not perfect and could still land in a local minimum, but it is important to be aware of these behaviors as you utilize SGD in machine learning.\n",
        "\n",
        "So let's continue, we'll build functions we can use to update our fit parameters, $m$ and $b$."
      ]
    },
    {
      "cell_type": "code",
      "execution_count": null,
      "metadata": {
        "id": "ENTpM_q0k4er"
      },
      "outputs": [],
      "source": [
        "def updated_m(x,y,m,b,learning_rate):\n",
        "   dL_dm = - 2 * x * (y - model(x,m,b))\n",
        "   dL_dm = np.mean(dL_dm)\n",
        "   return m - learning_rate * dL_dm\n",
        "\n",
        "def updated_b(x,y,m,b,learning_rate):\n",
        "   dL_db = - 2 * (y - model(x,m,b))\n",
        "   dL_db = np.mean(dL_db)\n",
        "   return b - learning_rate * dL_db"
      ]
    },
    {
      "cell_type": "markdown",
      "metadata": {
        "id": "q_Tmq3onk4er"
      },
      "source": [
        "# Putting it together\n",
        "\n",
        "We can now randomly select our initial slope and intercept:"
      ]
    },
    {
      "cell_type": "code",
      "execution_count": null,
      "metadata": {
        "id": "RcofYuEFk4er"
      },
      "outputs": [],
      "source": [
        "m = 5.\n",
        "b = 1000.\n",
        "print('y_i = %.2f * x + %.2f' % (m,b))"
      ]
    },
    {
      "cell_type": "markdown",
      "metadata": {
        "id": "cx-h-uKwk4es"
      },
      "source": [
        "Then we can calculate our Loss function:"
      ]
    },
    {
      "cell_type": "code",
      "execution_count": null,
      "metadata": {
        "id": "VrGMJdbWk4es"
      },
      "outputs": [],
      "source": [
        "l = loss(x,y,m,b)\n",
        "print('first 10 loss values: ',l[:10])"
      ]
    },
    {
      "cell_type": "code",
      "execution_count": null,
      "metadata": {
        "id": "GC21okO6k4es"
      },
      "outputs": [],
      "source": [
        "learning_rate = 1e-9\n",
        "m = updated_m(x,y,m,b,learning_rate)\n",
        "b = updated_b(x,y,m,b,learning_rate)\n",
        "print('y_i = %.2f * x + %.2f     previously calculated: y_i = %.2f * x + %.2f' % (m,b,m_calc,b_calc))\n",
        "plot_data(x,y,m,b)"
      ]
    },
    {
      "cell_type": "code",
      "execution_count": null,
      "metadata": {
        "id": "fiqm5koHk4es"
      },
      "outputs": [],
      "source": [
        "# set our initial slope and intercept\n",
        "m = 5.\n",
        "b = 1000.\n",
        "# batch_size = 60\n",
        "# set a learning rate for each parameter\n",
        "learning_rate_m = 1e-7\n",
        "learning_rate_b = 1e-1\n",
        "# use these to plot our progress over time\n",
        "loss_history = []\n",
        "# convert panda data to numpy arrays, one for the \"Ground Living Area\" and one for \"Sale Price\"\n",
        "data_x = data['GrLivArea'].to_numpy()\n",
        "data_y = data['SalePrice'].to_numpy()\n",
        "# we run our loop N times\n",
        "loop_N = 30\n",
        "for i in range(loop_N):\n",
        "   # update our slope and intercept based on the current values\n",
        "   m = updated_m(data_x,data_y,m,b,learning_rate_m)\n",
        "   b = updated_b(data_x,data_y,m,b,learning_rate_b)\n",
        "\n",
        "   # calculate the loss value\n",
        "   loss_value = np.mean(loss(data_x,data_y,m,b))\n",
        "\n",
        "   # keep a history of our loss values\n",
        "   loss_history.append(loss_value)\n",
        "\n",
        "   # print our progress\n",
        "   print('[%03d]  dy_i = %.2f * x + %.2f     previously calculated: y_i = %.2f * x + %.2f    loss: %f' % (i,m,b,m_calc,b_calc,loss_value))\n",
        "\n",
        "   # close/delete previous plots\n",
        "   plt.close('all')\n",
        "\n",
        "   # create a 1 by 2 plot grid\n",
        "   fig,ax = plt.subplots(1,2,figsize=(18,6),dpi=80)\n",
        "   # lot our usual output\n",
        "   plot_data(data_x,data_y,m,b,ax[0])\n",
        "\n",
        "   # here we also plot the calculated linear fit for comparison\n",
        "   line_x = np.arange(data_x.min(),data_x.max())\n",
        "   line_y = line_x * m_calc + b_calc\n",
        "   ax[0].plot(line_x,line_y,'b-',label='calculated')\n",
        "   # add a legend to the plot and x/y labels\n",
        "   ax[0].legend()\n",
        "   ax[0].set_xlabel('square footage')\n",
        "   ax[0].set_ylabel('sale price')\n",
        "\n",
        "   # plot the loss\n",
        "   loss_x = np.arange(0,len(loss_history))\n",
        "   loss_y = np.asarray(loss_history)\n",
        "   ax[1].plot(loss_x,loss_y, 'o-')\n",
        "   ax[1].set_yscale('log')\n",
        "   ax[1].set_xlabel('loop step')\n",
        "   ax[1].set_ylabel('loss')\n",
        "   plt.show()\n",
        "   # gives us time to see the plot\n",
        "   time.sleep(2.5)\n",
        "   # clears the plot when the next plot is ready to show.\n",
        "   ipydis.clear_output(wait=True)\n",
        "\n"
      ]
    },
    {
      "cell_type": "markdown",
      "metadata": {
        "id": "zMviSYR_k4es"
      },
      "source": [
        "# Homework\n",
        "## Mini Batch Training\n",
        "In AI, datasets are often very large and cannot be processed all at once as is done in the loop above. The data is instead randomly sampled in smaller _batches_ where each _batch_ contains `batch_size` inputs. How can you change the loop above to sample the dataset in smaller batches? Hint: Our `data` variable is a Pandas `DataFrame` object, search for \"how to sample a DataFrame\".\n",
        "\n",
        "Instead of using the entire dataset like\n",
        "```python\n",
        "data_x = data['GrLivArea'].to_numpy()\n",
        "data_y = data['SalePrice'].to_numpy()\n",
        "```\n",
        "Use\n",
        "```python\n",
        "data_batch = data.sample(batch_size)\n",
        "data_x = data_batch['GrLivArea'].to_numpy()\n",
        "data_y = data_batch['SalePrice'].to_numpy()\n",
        "```\n",
        "\n",
        "You also have to adjust the loop_N accordingly to make sure that it loop over the entire datasets the same number of times.\n",
        "```python\n",
        "loop_N = 30*len(data)//batch_size\n",
        "```\n",
        "\n",
        "Please plot your learning curve for different batch size, such as 32, 64, 128, 256, 512.\n",
        "\n",
        "## Learning rate issue (Bonus)\n",
        "As described above, if the learning rate is too large, it will affect the convergence. Do your training with (batch_size = 64, learning_rate_m = 1e-7, learning_rate_b = 1e-1). Then linearly increase the batch size and learning rate until you see the training does not converge.\n",
        "```\n",
        "(64, 1e-7, 1e-1)*1\n",
        "(64, 1e-7, 1e-1)*2\n",
        "(64, 1e-7, 1e-1)*4\n",
        "(64, 1e-7, 1e-1)*8\n",
        "...\n",
        "```\n",
        "\n",
        "**How to submit your homework**\n",
        "* Fork the github repo to your personal github\n",
        "* Make change to the 01_linear_regression_sgd.ipynb, and then push to your personal github\n",
        "* Provide the link of 01_linear_regression_sgd in the personal github.\n",
        "\n",
        "Follow the below instruction on how to do this:\n",
        "https://github.com/argonne-lcf/ai-science-training-series/blob/main/00_introToAlcf/03_githubHomework.md"
      ]
    },
    {
      "cell_type": "code",
      "execution_count": null,
      "metadata": {
        "id": "dvvY-9uak4es"
      },
      "outputs": [],
      "source": [
        "import numpy as np\n",
        "import pandas as pd\n",
        "import matplotlib.pyplot as plt\n",
        "import time\n",
        "\n",
        "\n",
        "# Set initial slope and intercept\n",
        "m = 5.\n",
        "b = 1000.\n",
        "\n",
        "# Define initial batch size and learning rates\n",
        "initial_batch_size = 64\n",
        "initial_learning_rate_m = 1e-7\n",
        "initial_learning_rate_b = 1e-1\n",
        "\n",
        "# Function to update slope (dummy implementation)\n",
        "def updated_m(data_x, data_y, m, b, learning_rate_m):\n",
        "    return m - learning_rate_m * np.mean((m * data_x + b - data_y) * data_x)\n",
        "\n",
        "# Function to update intercept (dummy implementation)\n",
        "def updated_b(data_x, data_y, m, b, learning_rate_b):\n",
        "    return b - learning_rate_b * np.mean(m * data_x + b - data_y)\n",
        "\n",
        "# Function to calculate loss (dummy implementation)\n",
        "def loss(data_x, data_y, m, b):\n",
        "    return (m * data_x + b - data_y) ** 2\n",
        "\n",
        "# Loop over different scaling factors\n",
        "scaling_factors = [1, 2, 4, 8]\n",
        "\n",
        "# Calculate total iterations\n",
        "data_length = len(data)\n",
        "total_iterations = sum(30 * data_length // (initial_batch_size * factor) for factor in scaling_factors)\n",
        "\n",
        "# Estimate time per iteration\n",
        "time_per_iteration = 2.5 + 0.5  # seconds (sleep time + processing time)\n",
        "\n",
        "# Calculate total time in seconds\n",
        "total_time_seconds = total_iterations * time_per_iteration\n",
        "\n",
        "# Convert to minutes\n",
        "total_time_minutes = total_time_seconds / 60\n",
        "\n",
        "print(f\"Estimated total runtime: {total_time_minutes:.2f} minutes\")\n",
        "\n",
        "# Training loop\n",
        "for factor in scaling_factors:\n",
        "    batch_size = initial_batch_size * factor\n",
        "    learning_rate_m = initial_learning_rate_m * factor\n",
        "    learning_rate_b = initial_learning_rate_b * factor\n",
        "\n",
        "    loop_N = 30 * len(data) // batch_size\n",
        "    loss_history = []\n",
        "\n",
        "    for i in range(loop_N):\n",
        "        # Sample a batch from the data\n",
        "        data_batch = data.sample(batch_size)\n",
        "        data_x = data_batch['GrLivArea'].to_numpy()\n",
        "        data_y = data_batch['SalePrice'].to_numpy()\n",
        "\n",
        "        # Update slope and intercept\n",
        "        m = updated_m(data_x, data_y, m, b, learning_rate_m)\n",
        "        b = updated_b(data_x, data_y, m, b, learning_rate_b)\n",
        "\n",
        "        # Calculate the loss value\n",
        "        loss_value = np.mean(loss(data_x, data_y, m, b))\n",
        "\n",
        "        # Keep a history of our loss values\n",
        "        loss_history.append(loss_value)\n",
        "\n",
        "        # Print progress\n",
        "        print('[%03d]  dy_i = %.2f * x + %.2f     previously calculated: y_i = %.2f * x + %.2f    loss: %f' % (i, m, b, m, b, loss_value))\n",
        "\n",
        "        # Close/delete previous plots\n",
        "        plt.close('all')\n",
        "\n",
        "        # Create a 1 by 2 plot grid\n",
        "        fig, ax = plt.subplots(1, 2, figsize=(18, 6), dpi=80)\n",
        "        # Plot our usual output\n",
        "        ax[0].scatter(data_x, data_y, label='Data')\n",
        "        ax[0].plot(data_x, m * data_x + b, 'r-', label='Fitted line')\n",
        "        ax[0].legend()\n",
        "        ax[0].set_xlabel('square footage')\n",
        "        ax[0].set_ylabel('sale price')\n",
        "\n",
        "        # Plot the loss\n",
        "        loss_x = np.arange(0, len(loss_history))\n",
        "        loss_y = np.asarray(loss_history)\n",
        "        ax[1].plot(loss_x, loss_y, 'o-')\n",
        "        ax[1].set_yscale('log')\n",
        "        ax[1].set_xlabel('loop step')\n",
        "        ax[1].set_ylabel('loss')\n",
        "        plt.show()\n",
        "        # Gives us time to see the plot\n",
        "        time.sleep(2.5)\n",
        "        # Clears the plot when the next plot is ready to show.\n",
        "        from IPython.display import clear_output\n",
        "        clear_output(wait=True)\n"
      ]
    }
  ],
  "metadata": {
    "kernelspec": {
      "display_name": "datascience/conda-2023-01-10",
      "language": "python",
      "name": "conda-2023-01-10"
    },
    "language_info": {
      "codemirror_mode": {
        "name": "ipython",
        "version": 3
      },
      "file_extension": ".py",
      "mimetype": "text/x-python",
      "name": "python",
      "nbconvert_exporter": "python",
      "pygments_lexer": "ipython3",
      "version": "3.10.9"
    },
    "vscode": {
      "interpreter": {
        "hash": "ca11ad6395cdedf9566fae895615e536994dcaaccdd1d5f900a22af192bb117e"
      }
    },
    "colab": {
      "provenance": []
    }
  },
  "nbformat": 4,
  "nbformat_minor": 0
}